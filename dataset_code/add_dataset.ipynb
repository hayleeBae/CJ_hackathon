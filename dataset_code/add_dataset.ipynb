{
 "cells": [
  {
   "cell_type": "markdown",
   "metadata": {},
   "source": [
    "#### Creating File DataFrame"
   ]
  },
  {
   "cell_type": "markdown",
   "metadata": {},
   "source": [
    "- 데이터 출처\n",
    "    - https://open.selectstar.ai/ko/?page_id=5976\n",
    "    - https://aihub.or.kr/aihubdata/data/view.do?currMenu=&topMenu=&aihubDataSe=realm&dataSetSn=242\n",
    "    - https://aihub.or.kr/aihubdata/data/view.do?currMenu=&topMenu=&aihubDataSe=realm&dataSetSn=79"
   ]
  },
  {
   "cell_type": "code",
   "execution_count": 1,
   "metadata": {},
   "outputs": [],
   "source": [
    "import pandas as pd\n",
    "import numpy as np\n",
    "import os\n",
    "import json\n",
    "import random\n",
    "from natsort import natsorted\n",
    "from pathlib import Path"
   ]
  },
  {
   "cell_type": "code",
   "execution_count": 2,
   "metadata": {},
   "outputs": [],
   "source": [
    "BASE_PATH = '../data'\n",
    "\n",
    "dir_path = Path(BASE_PATH)"
   ]
  },
  {
   "cell_type": "code",
   "execution_count": 3,
   "metadata": {},
   "outputs": [
    {
     "name": "stdout",
     "output_type": "stream",
     "text": [
      "84748 84748\n"
     ]
    }
   ],
   "source": [
    "food1_ps = list(dir_path.joinpath('food1').rglob(\"*.png\"))\n",
    "food1_paths = []\n",
    "\n",
    "for i in food1_ps:\n",
    "    if i.stem.startswith(('._', 'BBQ', 'bingsu', 'cake', 'chicken', 'coffee_hot', 'coffee_ice', 'galbi', 'serial', 'soup', 'pasta', 'chicken')) == True:\n",
    "        pass\n",
    "    else:\n",
    "        food1_paths.append(i)\n",
    "        \n",
    "food1_labels = list(map(lambda x: os.path.split(x)[0].split('\\\\')[3], food1_paths))\n",
    "\n",
    "print(len(food1_paths), len(food1_labels))"
   ]
  },
  {
   "cell_type": "code",
   "execution_count": 4,
   "metadata": {},
   "outputs": [
    {
     "data": {
      "text/plain": [
       "130"
      ]
     },
     "execution_count": 4,
     "metadata": {},
     "output_type": "execute_result"
    }
   ],
   "source": [
    "food2_cate = []\n",
    "\n",
    "for (root, directories, files) in os.walk(dir_path.joinpath('food2')):\n",
    "    for d in directories:\n",
    "        category = os.path.join(root, d).split('\\\\')[-1]\n",
    "        food2_cate.append(category)\n",
    "\n",
    "len(food2_cate)"
   ]
  },
  {
   "cell_type": "code",
   "execution_count": 5,
   "metadata": {},
   "outputs": [
    {
     "name": "stdout",
     "output_type": "stream",
     "text": [
      "143574 143574\n"
     ]
    }
   ],
   "source": [
    "food2_paths = []\n",
    "\n",
    "for category in food2_cate:\n",
    "    if len(list(dir_path.joinpath(f'food2/{category}').rglob(\"*.jpg\"))) > 1300:\n",
    "        random_elements = random.sample(list(dir_path.joinpath(f'food2/{category}').rglob(\"*.jpg\")), 1300)\n",
    "        food2_paths.extend(random_elements)\n",
    "    else :\n",
    "        small = list(dir_path.joinpath(f'food2/{category}').rglob(\"*.jpg\"))\n",
    "        food2_paths.extend(small)\n",
    "\n",
    "food2_labels = list(map(lambda x: os.path.split(x)[0].split('\\\\')[3], food2_paths))\n",
    "\n",
    "print(len(food2_paths), len(food2_labels))"
   ]
  },
  {
   "cell_type": "code",
   "execution_count": 6,
   "metadata": {},
   "outputs": [
    {
     "name": "stdout",
     "output_type": "stream",
     "text": [
      "40261 39\n"
     ]
    }
   ],
   "source": [
    "food3_paths = list(dir_path.joinpath('food3').rglob(\"*.jpg\"))\n",
    "\n",
    "food3_png = list(dir_path.joinpath('food3').rglob(\"*.png\"))\n",
    "\n",
    "print(len(food3_paths), len(food3_png))"
   ]
  },
  {
   "cell_type": "code",
   "execution_count": 7,
   "metadata": {},
   "outputs": [
    {
     "data": {
      "text/plain": [
       "40261"
      ]
     },
     "execution_count": 7,
     "metadata": {},
     "output_type": "execute_result"
    }
   ],
   "source": [
    "food3_labels = list(map(lambda x: os.path.split(x)[0].split('\\\\')[3], food3_paths))\n",
    "\n",
    "len(food3_labels)"
   ]
  },
  {
   "cell_type": "code",
   "execution_count": 8,
   "metadata": {},
   "outputs": [
    {
     "name": "stdout",
     "output_type": "stream",
     "text": [
      "268583 268583\n"
     ]
    }
   ],
   "source": [
    "all_image_paths = food1_paths + food2_paths + food3_paths\n",
    "all_labels = food1_labels + food2_labels + food3_labels\n",
    "\n",
    "print(len(all_image_paths), len(all_labels))"
   ]
  },
  {
   "cell_type": "code",
   "execution_count": 9,
   "metadata": {},
   "outputs": [],
   "source": [
    "image_series = pd.Series(all_image_paths, name='imagepath').astype(str)\n",
    "labels_series = pd.Series(all_labels, name='label')\n",
    "\n",
    "images_df = pd.concat([image_series, labels_series], axis=1)"
   ]
  },
  {
   "cell_type": "code",
   "execution_count": 10,
   "metadata": {},
   "outputs": [
    {
     "data": {
      "text/html": [
       "<div>\n",
       "<style scoped>\n",
       "    .dataframe tbody tr th:only-of-type {\n",
       "        vertical-align: middle;\n",
       "    }\n",
       "\n",
       "    .dataframe tbody tr th {\n",
       "        vertical-align: top;\n",
       "    }\n",
       "\n",
       "    .dataframe thead th {\n",
       "        text-align: right;\n",
       "    }\n",
       "</style>\n",
       "<table border=\"1\" class=\"dataframe\">\n",
       "  <thead>\n",
       "    <tr style=\"text-align: right;\">\n",
       "      <th></th>\n",
       "      <th>imagepath</th>\n",
       "      <th>label</th>\n",
       "    </tr>\n",
       "  </thead>\n",
       "  <tbody>\n",
       "    <tr>\n",
       "      <th>0</th>\n",
       "      <td>..\\data\\food1\\baek_sook\\png\\baek_sook_0001.png</td>\n",
       "      <td>baek_sook</td>\n",
       "    </tr>\n",
       "    <tr>\n",
       "      <th>1</th>\n",
       "      <td>..\\data\\food1\\baek_sook\\png\\baek_sook_0002.png</td>\n",
       "      <td>baek_sook</td>\n",
       "    </tr>\n",
       "    <tr>\n",
       "      <th>2</th>\n",
       "      <td>..\\data\\food1\\baek_sook\\png\\baek_sook_0003.png</td>\n",
       "      <td>baek_sook</td>\n",
       "    </tr>\n",
       "    <tr>\n",
       "      <th>3</th>\n",
       "      <td>..\\data\\food1\\baek_sook\\png\\baek_sook_0004.png</td>\n",
       "      <td>baek_sook</td>\n",
       "    </tr>\n",
       "    <tr>\n",
       "      <th>4</th>\n",
       "      <td>..\\data\\food1\\baek_sook\\png\\baek_sook_0005.png</td>\n",
       "      <td>baek_sook</td>\n",
       "    </tr>\n",
       "  </tbody>\n",
       "</table>\n",
       "</div>"
      ],
      "text/plain": [
       "                                        imagepath      label\n",
       "0  ..\\data\\food1\\baek_sook\\png\\baek_sook_0001.png  baek_sook\n",
       "1  ..\\data\\food1\\baek_sook\\png\\baek_sook_0002.png  baek_sook\n",
       "2  ..\\data\\food1\\baek_sook\\png\\baek_sook_0003.png  baek_sook\n",
       "3  ..\\data\\food1\\baek_sook\\png\\baek_sook_0004.png  baek_sook\n",
       "4  ..\\data\\food1\\baek_sook\\png\\baek_sook_0005.png  baek_sook"
      ]
     },
     "execution_count": 10,
     "metadata": {},
     "output_type": "execute_result"
    }
   ],
   "source": [
    "images_df.head()"
   ]
  },
  {
   "cell_type": "code",
   "execution_count": 11,
   "metadata": {},
   "outputs": [
    {
     "data": {
      "text/plain": [
       "label\n",
       "caesar_salad            1300\n",
       "toast                   1300\n",
       "dumpling                1300\n",
       "fish_cutlet             1300\n",
       "fried_chicken           1300\n",
       "                        ... \n",
       "chilled_jokbal_salad     312\n",
       "sundaegukbap             305\n",
       "mushroom                 248\n",
       "fried_food               223\n",
       "tteokgalbi               164\n",
       "Name: count, Length: 253, dtype: int64"
      ]
     },
     "execution_count": 11,
     "metadata": {},
     "output_type": "execute_result"
    }
   ],
   "source": [
    "images_df['label'].value_counts()"
   ]
  },
  {
   "cell_type": "code",
   "execution_count": 12,
   "metadata": {},
   "outputs": [
    {
     "data": {
      "text/plain": [
       "{'baek_sook': 0,\n",
       " 'baguette': 1,\n",
       " 'banh_mi': 2,\n",
       " 'beef_tartare': 3,\n",
       " 'bibimbap': 4,\n",
       " 'bulgogi': 5,\n",
       " 'bunza': 6,\n",
       " 'burger': 7,\n",
       " 'burrito': 8,\n",
       " 'cannoli': 9,\n",
       " 'caprese': 10,\n",
       " 'chili_crab': 11,\n",
       " 'chocolate': 12,\n",
       " 'churros': 13,\n",
       " 'cookie': 14,\n",
       " 'crepe': 15,\n",
       " 'croissant': 16,\n",
       " 'croque_monsieur': 17,\n",
       " 'curry': 18,\n",
       " 'dacquoise': 19,\n",
       " 'dim_sum': 20,\n",
       " 'donut': 21,\n",
       " 'egg_benedict': 22,\n",
       " 'egg_tart': 23,\n",
       " 'escargot': 24,\n",
       " 'fish_and_chips': 25,\n",
       " 'fondue': 26,\n",
       " 'french_fries': 27,\n",
       " 'french_toast': 28,\n",
       " 'gelato': 29,\n",
       " 'gimbap': 30,\n",
       " 'gratin': 31,\n",
       " 'hot_dog': 32,\n",
       " 'hot_pot': 33,\n",
       " 'jajangmyeon': 34,\n",
       " 'japchae': 35,\n",
       " 'kaya_toast': 36,\n",
       " 'kebap': 37,\n",
       " 'kimchi_stew': 38,\n",
       " 'korean_pancake': 39,\n",
       " 'lasana': 40,\n",
       " 'lobster': 41,\n",
       " 'macaroon': 42,\n",
       " 'madeleine': 43,\n",
       " 'mapa_tofu': 44,\n",
       " 'milfeuille': 45,\n",
       " 'muffin': 46,\n",
       " 'naan': 47,\n",
       " 'nachos': 48,\n",
       " 'nasi_goreng': 49,\n",
       " 'omelet': 50,\n",
       " 'onigiri': 51,\n",
       " 'pad_thai': 52,\n",
       " 'paea': 53,\n",
       " 'pan_cake': 54,\n",
       " 'pie': 55,\n",
       " 'pizza': 56,\n",
       " 'popcorn': 57,\n",
       " 'pork_chop': 58,\n",
       " 'pound_cake': 59,\n",
       " 'pudding': 60,\n",
       " 'quesadilla': 61,\n",
       " 'ramen': 62,\n",
       " 'ratatouille': 63,\n",
       " 'rice_noodle': 64,\n",
       " 'risotto': 65,\n",
       " 'salad': 66,\n",
       " 'sandwich': 67,\n",
       " 'sashimi': 68,\n",
       " 'schweinshaxe': 69,\n",
       " 'seaweed_soup': 70,\n",
       " 'soba': 71,\n",
       " 'somtam': 72,\n",
       " 'steak': 73,\n",
       " 'sushi': 74,\n",
       " 'taco': 75,\n",
       " 'takoyaki': 76,\n",
       " 'tiramisu': 77,\n",
       " 'tortilla': 78,\n",
       " 'tteokbokki': 79,\n",
       " 'udon': 80,\n",
       " 'waffle': 81,\n",
       " 'wolnam_ssam': 82,\n",
       " 'abalone': 83,\n",
       " 'agwi_jjim': 84,\n",
       " 'almond': 85,\n",
       " 'bacon': 86,\n",
       " 'beef_jerky': 87,\n",
       " 'bossam': 88,\n",
       " 'brazil_nuts': 89,\n",
       " 'brownie': 90,\n",
       " 'caesar_salad': 91,\n",
       " 'cake': 92,\n",
       " 'canapés': 93,\n",
       " 'canned_fruit': 94,\n",
       " 'carbonara': 95,\n",
       " 'carrot_cake': 96,\n",
       " 'cheddar_cheese': 97,\n",
       " 'cheese': 98,\n",
       " 'chicken_breast': 99,\n",
       " 'chicken_breast_salad': 100,\n",
       " 'chicken_nuggets': 101,\n",
       " 'chilled_jokbal_salad': 102,\n",
       " 'chocolate_cake': 103,\n",
       " 'chocolate_muffin': 104,\n",
       " 'cracker': 105,\n",
       " 'cream_cheese': 106,\n",
       " 'cream_pasta': 107,\n",
       " 'dakbal': 108,\n",
       " 'dakgalbi': 109,\n",
       " 'doenjangjjigae': 110,\n",
       " 'doriyaki': 111,\n",
       " 'dried_squid': 112,\n",
       " 'dumpling': 113,\n",
       " 'fishcake_soup': 114,\n",
       " 'fish_cutlet': 115,\n",
       " 'fried_chicken': 116,\n",
       " 'fried_food': 117,\n",
       " 'fried_rice': 118,\n",
       " 'fried_shrimp': 119,\n",
       " 'fried_squid': 120,\n",
       " 'fried_tofu': 121,\n",
       " 'fruit_vegetable_salad': 122,\n",
       " 'galbi': 123,\n",
       " 'galbijjim': 124,\n",
       " 'galbitang': 125,\n",
       " 'garaetteok': 126,\n",
       " 'gejang': 127,\n",
       " 'gochujangbulgogi': 128,\n",
       " 'gopchangjeongol': 129,\n",
       " 'gorgonzola_pizza': 130,\n",
       " 'gotgam': 131,\n",
       " 'grilled_beef': 132,\n",
       " 'grilled_chicken_breast': 133,\n",
       " 'grilled_duck': 134,\n",
       " 'grilled_eel': 135,\n",
       " 'grilled_fish': 136,\n",
       " 'grilled_mackerel': 137,\n",
       " 'grilled_pork': 138,\n",
       " 'grilled_salmon': 139,\n",
       " 'grilled_shrimp': 140,\n",
       " 'haejangguk': 141,\n",
       " 'haemuljjim': 142,\n",
       " 'haemultang': 143,\n",
       " 'ham': 144,\n",
       " 'hamburg_steak': 145,\n",
       " 'hawaiian_pizza': 146,\n",
       " 'jjimdak': 147,\n",
       " 'jokbal': 148,\n",
       " 'jukkumibokkeum': 149,\n",
       " 'kkanpunggi': 150,\n",
       " 'lamb_skewers': 151,\n",
       " 'melon': 152,\n",
       " 'mushroom': 153,\n",
       " 'myeongnanjeot': 154,\n",
       " 'naengmyeon': 155,\n",
       " 'nagasaki_seafood_noodles': 156,\n",
       " 'nakjibokkeum': 157,\n",
       " 'noodles': 158,\n",
       " 'octopus': 159,\n",
       " 'okonomiyaki': 160,\n",
       " 'olive': 161,\n",
       " 'pajeon': 162,\n",
       " 'pan_fried_dumpling': 163,\n",
       " 'pasta': 164,\n",
       " 'pepperoni_pizza': 165,\n",
       " 'pineapple': 166,\n",
       " 'pork_cutlet': 167,\n",
       " 'pork_galbijjim': 168,\n",
       " 'pork_ribs': 169,\n",
       " 'ramyun': 170,\n",
       " 'rice': 171,\n",
       " 'rice_crackers': 172,\n",
       " 'ricotta_cheese': 173,\n",
       " 'rolled_omelet': 174,\n",
       " 'roll_cake': 175,\n",
       " 'salmon_salad': 176,\n",
       " 'salmon_sashimi': 177,\n",
       " 'salmon_sushi': 178,\n",
       " 'samgyeopsal': 179,\n",
       " 'sausage': 180,\n",
       " 'seasoned_fried_chicken': 181,\n",
       " 'sea_cucumber': 182,\n",
       " 'sirloin_steak': 183,\n",
       " 'smoked_duck': 184,\n",
       " 'smoked_duck_salad': 185,\n",
       " 'spicy_noodles': 186,\n",
       " 'squid': 187,\n",
       " 'steamed_eggs': 188,\n",
       " 'stew': 189,\n",
       " 'stir_fried_seafood': 190,\n",
       " 'strawberry': 191,\n",
       " 'sukjunamul': 192,\n",
       " 'sundae': 193,\n",
       " 'sundaebokkeum': 194,\n",
       " 'sundaegukbap': 195,\n",
       " 'sundubujjigae': 196,\n",
       " 'sutbuldakgalbi': 197,\n",
       " 'sweet_potato': 198,\n",
       " 'tenderloin_steak': 199,\n",
       " 'teriyaki_chicken': 200,\n",
       " 'toast': 201,\n",
       " 'tofu': 202,\n",
       " 'tomato_salad': 203,\n",
       " 'tongdak': 204,\n",
       " 'tteokgalbi': 205,\n",
       " 'tteokguk': 206,\n",
       " 'tuna_sashimi': 207,\n",
       " 'vanilla_icecream': 208,\n",
       " 'vongole_pasta': 209,\n",
       " 'walnut': 210,\n",
       " 'walnut_pie': 211,\n",
       " 'whipped_cream_cake': 212,\n",
       " 'bean_sprout_salad': 213,\n",
       " 'bean_sprout_soup': 214,\n",
       " 'chueotang': 215,\n",
       " 'cone_sushi': 216,\n",
       " 'dakbokkeumtang': 217,\n",
       " 'dotorimuk': 218,\n",
       " 'dubujorim': 219,\n",
       " 'dubukimchi': 220,\n",
       " 'egg_soup': 221,\n",
       " 'galchijorim': 222,\n",
       " 'gamjajorim': 223,\n",
       " 'gamjatang': 224,\n",
       " 'godeungeojorim': 225,\n",
       " 'gopchanggui': 226,\n",
       " 'grilled_clams': 227,\n",
       " 'grilled_deodeok': 228,\n",
       " 'gwamegi': 229,\n",
       " 'hobakjeon': 230,\n",
       " 'hoemuchim': 231,\n",
       " 'kalguksu': 232,\n",
       " 'kimchijjim': 233,\n",
       " 'kimchi_pancake': 234,\n",
       " 'kkomakjjim': 235,\n",
       " 'kodarijorim': 236,\n",
       " 'maeuntang': 237,\n",
       " 'makguksu': 238,\n",
       " 'meat_fritters': 239,\n",
       " 'mulhoe': 240,\n",
       " 'nurungji': 241,\n",
       " 'peanutsjorim': 242,\n",
       " 'potato_pancake': 243,\n",
       " 'sannakji': 244,\n",
       " 'siraegiguk': 245,\n",
       " 'spinach_salad': 246,\n",
       " 'stir_fried_eggplant': 247,\n",
       " 'sujebi': 248,\n",
       " 'tteok_kkochi': 249,\n",
       " 'white_kimchi': 250,\n",
       " 'yakgwa': 251,\n",
       " 'yeolmukimchi': 252}"
      ]
     },
     "execution_count": 12,
     "metadata": {},
     "output_type": "execute_result"
    }
   ],
   "source": [
    "category = list(images_df['label'].unique())\n",
    "\n",
    "labels_id = {string:idx for idx, string in enumerate (category)}\n",
    "labels_id"
   ]
  },
  {
   "cell_type": "code",
   "execution_count": 13,
   "metadata": {},
   "outputs": [],
   "source": [
    "for category in category:\n",
    "    images_df['label'] = images_df['label'].replace(category, labels_id[category])"
   ]
  },
  {
   "cell_type": "code",
   "execution_count": 14,
   "metadata": {},
   "outputs": [
    {
     "data": {
      "text/plain": [
       "0           0\n",
       "1           0\n",
       "2           0\n",
       "3           0\n",
       "4           0\n",
       "         ... \n",
       "268578    252\n",
       "268579    252\n",
       "268580    252\n",
       "268581    252\n",
       "268582    252\n",
       "Name: label, Length: 268583, dtype: int64"
      ]
     },
     "execution_count": 14,
     "metadata": {},
     "output_type": "execute_result"
    }
   ],
   "source": [
    "images_df['label']"
   ]
  },
  {
   "cell_type": "markdown",
   "metadata": {},
   "source": [
    "#### Setting"
   ]
  },
  {
   "cell_type": "code",
   "execution_count": 16,
   "metadata": {},
   "outputs": [],
   "source": [
    "from sklearn.model_selection import train_test_split\n",
    "\n",
    "import tensorflow as tf"
   ]
  },
  {
   "cell_type": "code",
   "execution_count": 17,
   "metadata": {},
   "outputs": [],
   "source": [
    "np.random.seed(42)\n",
    "tf.random.set_seed(42)"
   ]
  },
  {
   "cell_type": "code",
   "execution_count": 18,
   "metadata": {},
   "outputs": [
    {
     "name": "stdout",
     "output_type": "stream",
     "text": [
      "[name: \"/device:CPU:0\"\n",
      "device_type: \"CPU\"\n",
      "memory_limit: 268435456\n",
      "locality {\n",
      "}\n",
      "incarnation: 18265116905075338660\n",
      "xla_global_id: -1\n",
      ", name: \"/device:GPU:0\"\n",
      "device_type: \"GPU\"\n",
      "memory_limit: 13059315712\n",
      "locality {\n",
      "  bus_id: 1\n",
      "  links {\n",
      "  }\n",
      "}\n",
      "incarnation: 6817138135249836071\n",
      "physical_device_desc: \"device: 0, name: Quadro RTX 5000, pci bus id: 0000:03:00.0, compute capability: 7.5\"\n",
      "xla_global_id: 416903419\n",
      ", name: \"/device:GPU:1\"\n",
      "device_type: \"GPU\"\n",
      "memory_limit: 13059315712\n",
      "locality {\n",
      "  bus_id: 1\n",
      "  links {\n",
      "  }\n",
      "}\n",
      "incarnation: 16060737681748408194\n",
      "physical_device_desc: \"device: 1, name: Quadro RTX 5000, pci bus id: 0000:81:00.0, compute capability: 7.5\"\n",
      "xla_global_id: 2144165316\n",
      "]\n",
      "───────────────────────────────────────\n",
      "am I using GPU?:  True\n"
     ]
    }
   ],
   "source": [
    "from tensorflow.python.client import device_lib\n",
    "\n",
    "print(device_lib.list_local_devices()) # print avaliable CPU, GPU list\n",
    "print(\"───────────────────────────────────────\")\n",
    "print(\"am I using GPU?: \", bool(tf.config.list_physical_devices('GPU'))) # NVIDIA Quadro RTX 5000"
   ]
  },
  {
   "cell_type": "code",
   "execution_count": 19,
   "metadata": {},
   "outputs": [],
   "source": [
    "train_generator = tf.keras.preprocessing.image.ImageDataGenerator(\n",
    "    preprocessing_function=tf.keras.applications.mobilenet_v2.preprocess_input,\n",
    "    validation_split=0.2\n",
    ")\n",
    "\n",
    "test_generator = tf.keras.preprocessing.image.ImageDataGenerator(\n",
    "    preprocessing_function=tf.keras.applications.mobilenet_v2.preprocess_input\n",
    ")"
   ]
  }
 ],
 "metadata": {
  "kernelspec": {
   "display_name": "Python 3",
   "language": "python",
   "name": "python3"
  },
  "language_info": {
   "codemirror_mode": {
    "name": "ipython",
    "version": 3
   },
   "file_extension": ".py",
   "mimetype": "text/x-python",
   "name": "python",
   "nbconvert_exporter": "python",
   "pygments_lexer": "ipython3",
   "version": "3.8.10"
  }
 },
 "nbformat": 4,
 "nbformat_minor": 2
}
