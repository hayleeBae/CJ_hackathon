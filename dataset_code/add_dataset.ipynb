{
 "cells": [
  {
   "cell_type": "markdown",
   "metadata": {},
   "source": [
    "#### Creating File DataFrame"
   ]
  },
  {
   "cell_type": "markdown",
   "metadata": {},
   "source": [
    "- 데이터 출처\n",
    "    - https://open.selectstar.ai/ko/?page_id=5976\n",
    "    - https://aihub.or.kr/aihubdata/data/view.do?currMenu=&topMenu=&aihubDataSe=realm&dataSetSn=242\n",
    "    - https://aihub.or.kr/aihubdata/data/view.do?currMenu=&topMenu=&aihubDataSe=realm&dataSetSn=79"
   ]
  },
  {
   "cell_type": "code",
   "execution_count": 1,
   "metadata": {},
   "outputs": [],
   "source": [
    "import pandas as pd\n",
    "import numpy as np\n",
    "import os\n",
    "import json\n",
    "import random\n",
    "from natsort import natsorted\n",
    "from pathlib import Path"
   ]
  },
  {
   "cell_type": "code",
   "execution_count": 2,
   "metadata": {},
   "outputs": [],
   "source": [
    "BASE_PATH = '../data'\n",
    "\n",
    "dir_path = Path(BASE_PATH)"
   ]
  },
  {
   "cell_type": "code",
   "execution_count": 3,
   "metadata": {},
   "outputs": [
    {
     "name": "stdout",
     "output_type": "stream",
     "text": [
      "84748 84748\n"
     ]
    }
   ],
   "source": [
    "food1_ps = list(dir_path.joinpath('food1').rglob(\"*.png\"))\n",
    "food1_paths = []\n",
    "\n",
    "for i in food1_ps:\n",
    "    if i.stem.startswith(('._', 'BBQ', 'bingsu', 'cake', 'chicken', 'coffee_hot', 'coffee_ice', 'galbi', 'serial', 'soup', 'pasta', 'chicken')) == True:\n",
    "        pass\n",
    "    else:\n",
    "        food1_paths.append(i)\n",
    "        \n",
    "food1_labels = list(map(lambda x: os.path.split(x)[0].split('\\\\')[3], food1_paths))\n",
    "\n",
    "print(len(food1_paths), len(food1_labels))"
   ]
  },
  {
   "cell_type": "code",
   "execution_count": 4,
   "metadata": {},
   "outputs": [
    {
     "data": {
      "text/plain": [
       "130"
      ]
     },
     "execution_count": 4,
     "metadata": {},
     "output_type": "execute_result"
    }
   ],
   "source": [
    "food2_cate = []\n",
    "\n",
    "for (root, directories, files) in os.walk(dir_path.joinpath('food2')):\n",
    "    for d in directories:\n",
    "        category = os.path.join(root, d).split('\\\\')[-1]\n",
    "        food2_cate.append(category)\n",
    "\n",
    "len(food2_cate)"
   ]
  },
  {
   "cell_type": "code",
   "execution_count": 5,
   "metadata": {},
   "outputs": [
    {
     "data": {
      "text/plain": [
       "143574"
      ]
     },
     "execution_count": 5,
     "metadata": {},
     "output_type": "execute_result"
    }
   ],
   "source": [
    "food2_paths = []\n",
    "\n",
    "for category in food2_cate:\n",
    "    if len(list(dir_path.joinpath(f'food2/{category}').rglob(\"*.jpg\"))) > 1300:\n",
    "        random_elements = random.sample(list(dir_path.joinpath(f'food2/{category}').rglob(\"*.jpg\")), 1300)\n",
    "        food2_paths.extend(random_elements)\n",
    "    else :\n",
    "        small = list(dir_path.joinpath(f'food2/{category}').rglob(\"*.jpg\"))\n",
    "        food2_paths.extend(small)\n",
    "\n",
    "len(food2_paths)"
   ]
  },
  {
   "cell_type": "code",
   "execution_count": 6,
   "metadata": {},
   "outputs": [
    {
     "data": {
      "text/plain": [
       "143574"
      ]
     },
     "execution_count": 6,
     "metadata": {},
     "output_type": "execute_result"
    }
   ],
   "source": [
    "food2_labels = list(map(lambda x: os.path.split(x)[0].split('\\\\')[3], food2_paths))\n",
    "\n",
    "len(food2_labels)"
   ]
  },
  {
   "cell_type": "code",
   "execution_count": 7,
   "metadata": {},
   "outputs": [
    {
     "name": "stdout",
     "output_type": "stream",
     "text": [
      "40261 39\n"
     ]
    }
   ],
   "source": [
    "food3_paths = list(dir_path.joinpath('food3').rglob(\"*.jpg\"))\n",
    "\n",
    "food3_png = list(dir_path.joinpath('food3').rglob(\"*.png\"))\n",
    "\n",
    "print(len(food3_paths), len(food3_png))"
   ]
  },
  {
   "cell_type": "code",
   "execution_count": 8,
   "metadata": {},
   "outputs": [
    {
     "data": {
      "text/plain": [
       "40261"
      ]
     },
     "execution_count": 8,
     "metadata": {},
     "output_type": "execute_result"
    }
   ],
   "source": [
    "food3_labels = list(map(lambda x: os.path.split(x)[0].split('\\\\')[3], food3_paths))\n",
    "\n",
    "len(food3_labels)"
   ]
  },
  {
   "cell_type": "code",
   "execution_count": 9,
   "metadata": {},
   "outputs": [
    {
     "name": "stdout",
     "output_type": "stream",
     "text": [
      "268583 268583\n"
     ]
    }
   ],
   "source": [
    "all_image_paths = food1_paths + food2_paths + food3_paths\n",
    "all_labels = food1_labels + food2_labels + food3_labels\n",
    "\n",
    "print(len(all_image_paths), len(all_labels))"
   ]
  },
  {
   "cell_type": "code",
   "execution_count": 10,
   "metadata": {},
   "outputs": [],
   "source": [
    "image_series = pd.Series(all_image_paths, name='imagepath').astype(str)\n",
    "labels_series = pd.Series(all_labels, name='label')\n",
    "\n",
    "images_df = pd.concat([image_series, labels_series], axis=1)"
   ]
  },
  {
   "cell_type": "code",
   "execution_count": 11,
   "metadata": {},
   "outputs": [
    {
     "data": {
      "text/html": [
       "<div>\n",
       "<style scoped>\n",
       "    .dataframe tbody tr th:only-of-type {\n",
       "        vertical-align: middle;\n",
       "    }\n",
       "\n",
       "    .dataframe tbody tr th {\n",
       "        vertical-align: top;\n",
       "    }\n",
       "\n",
       "    .dataframe thead th {\n",
       "        text-align: right;\n",
       "    }\n",
       "</style>\n",
       "<table border=\"1\" class=\"dataframe\">\n",
       "  <thead>\n",
       "    <tr style=\"text-align: right;\">\n",
       "      <th></th>\n",
       "      <th>imagepath</th>\n",
       "      <th>label</th>\n",
       "    </tr>\n",
       "  </thead>\n",
       "  <tbody>\n",
       "    <tr>\n",
       "      <th>0</th>\n",
       "      <td>..\\data\\food1\\baek_sook\\png\\baek_sook_0001.png</td>\n",
       "      <td>baek_sook</td>\n",
       "    </tr>\n",
       "    <tr>\n",
       "      <th>1</th>\n",
       "      <td>..\\data\\food1\\baek_sook\\png\\baek_sook_0002.png</td>\n",
       "      <td>baek_sook</td>\n",
       "    </tr>\n",
       "    <tr>\n",
       "      <th>2</th>\n",
       "      <td>..\\data\\food1\\baek_sook\\png\\baek_sook_0003.png</td>\n",
       "      <td>baek_sook</td>\n",
       "    </tr>\n",
       "    <tr>\n",
       "      <th>3</th>\n",
       "      <td>..\\data\\food1\\baek_sook\\png\\baek_sook_0004.png</td>\n",
       "      <td>baek_sook</td>\n",
       "    </tr>\n",
       "    <tr>\n",
       "      <th>4</th>\n",
       "      <td>..\\data\\food1\\baek_sook\\png\\baek_sook_0005.png</td>\n",
       "      <td>baek_sook</td>\n",
       "    </tr>\n",
       "  </tbody>\n",
       "</table>\n",
       "</div>"
      ],
      "text/plain": [
       "                                        imagepath      label\n",
       "0  ..\\data\\food1\\baek_sook\\png\\baek_sook_0001.png  baek_sook\n",
       "1  ..\\data\\food1\\baek_sook\\png\\baek_sook_0002.png  baek_sook\n",
       "2  ..\\data\\food1\\baek_sook\\png\\baek_sook_0003.png  baek_sook\n",
       "3  ..\\data\\food1\\baek_sook\\png\\baek_sook_0004.png  baek_sook\n",
       "4  ..\\data\\food1\\baek_sook\\png\\baek_sook_0005.png  baek_sook"
      ]
     },
     "execution_count": 11,
     "metadata": {},
     "output_type": "execute_result"
    }
   ],
   "source": [
    "images_df.head()"
   ]
  },
  {
   "cell_type": "code",
   "execution_count": 12,
   "metadata": {},
   "outputs": [
    {
     "data": {
      "text/plain": [
       "label\n",
       "caesar_salad            1300\n",
       "toast                   1300\n",
       "dumpling                1300\n",
       "fish_cutlet             1300\n",
       "fried_chicken           1300\n",
       "                        ... \n",
       "chilled_jokbal_salad     312\n",
       "sundaegukbap             305\n",
       "mushroom                 248\n",
       "fried_food               223\n",
       "tteokgalbi               164\n",
       "Name: count, Length: 253, dtype: int64"
      ]
     },
     "execution_count": 12,
     "metadata": {},
     "output_type": "execute_result"
    }
   ],
   "source": [
    "images_df['label'].value_counts()"
   ]
  },
  {
   "cell_type": "code",
   "execution_count": 13,
   "metadata": {},
   "outputs": [],
   "source": [
    "category_samples = []\n",
    "for category in images_df['label'].unique():\n",
    "    category_slice = images_df.query(\"label == @category\")\n",
    "    category_samples.append(category_slice.sample(100, random_state=42))\n",
    "sample_df = pd.concat(category_samples, axis=0).sample(frac=1.0, random_state=42).reset_index(drop=True)"
   ]
  },
  {
   "cell_type": "code",
   "execution_count": 14,
   "metadata": {},
   "outputs": [
    {
     "data": {
      "text/html": [
       "<div>\n",
       "<style scoped>\n",
       "    .dataframe tbody tr th:only-of-type {\n",
       "        vertical-align: middle;\n",
       "    }\n",
       "\n",
       "    .dataframe tbody tr th {\n",
       "        vertical-align: top;\n",
       "    }\n",
       "\n",
       "    .dataframe thead th {\n",
       "        text-align: right;\n",
       "    }\n",
       "</style>\n",
       "<table border=\"1\" class=\"dataframe\">\n",
       "  <thead>\n",
       "    <tr style=\"text-align: right;\">\n",
       "      <th></th>\n",
       "      <th>imagepath</th>\n",
       "      <th>label</th>\n",
       "    </tr>\n",
       "  </thead>\n",
       "  <tbody>\n",
       "    <tr>\n",
       "      <th>0</th>\n",
       "      <td>..\\data\\food2\\walnut_pie\\A020525XX_00141.jpg</td>\n",
       "      <td>walnut_pie</td>\n",
       "    </tr>\n",
       "    <tr>\n",
       "      <th>1</th>\n",
       "      <td>..\\data\\food1\\chocolate\\png\\chocolate_0617.png</td>\n",
       "      <td>chocolate</td>\n",
       "    </tr>\n",
       "    <tr>\n",
       "      <th>2</th>\n",
       "      <td>..\\data\\food1\\tortilla\\png\\tortilla_0287.png</td>\n",
       "      <td>tortilla</td>\n",
       "    </tr>\n",
       "    <tr>\n",
       "      <th>3</th>\n",
       "      <td>..\\data\\food1\\croissant\\png\\croissant_0817.png</td>\n",
       "      <td>croissant</td>\n",
       "    </tr>\n",
       "    <tr>\n",
       "      <th>4</th>\n",
       "      <td>..\\data\\food1\\lasana\\png\\lasagna_0957.png</td>\n",
       "      <td>lasana</td>\n",
       "    </tr>\n",
       "  </tbody>\n",
       "</table>\n",
       "</div>"
      ],
      "text/plain": [
       "                                        imagepath       label\n",
       "0    ..\\data\\food2\\walnut_pie\\A020525XX_00141.jpg  walnut_pie\n",
       "1  ..\\data\\food1\\chocolate\\png\\chocolate_0617.png   chocolate\n",
       "2    ..\\data\\food1\\tortilla\\png\\tortilla_0287.png    tortilla\n",
       "3  ..\\data\\food1\\croissant\\png\\croissant_0817.png   croissant\n",
       "4       ..\\data\\food1\\lasana\\png\\lasagna_0957.png      lasana"
      ]
     },
     "execution_count": 14,
     "metadata": {},
     "output_type": "execute_result"
    }
   ],
   "source": [
    "sample_df.head()"
   ]
  },
  {
   "cell_type": "code",
   "execution_count": 15,
   "metadata": {},
   "outputs": [
    {
     "data": {
      "text/plain": [
       "label\n",
       "walnut_pie              100\n",
       "potato_pancake          100\n",
       "chicken_nuggets         100\n",
       "chicken_breast_salad    100\n",
       "sea_cucumber            100\n",
       "                       ... \n",
       "egg_benedict            100\n",
       "dubujorim               100\n",
       "dakbal                  100\n",
       "tomato_salad            100\n",
       "madeleine               100\n",
       "Name: count, Length: 253, dtype: int64"
      ]
     },
     "execution_count": 15,
     "metadata": {},
     "output_type": "execute_result"
    }
   ],
   "source": [
    "sample_df['label'].value_counts()"
   ]
  },
  {
   "cell_type": "markdown",
   "metadata": {},
   "source": [
    "#### Train-Test Split"
   ]
  },
  {
   "cell_type": "code",
   "execution_count": 16,
   "metadata": {},
   "outputs": [],
   "source": [
    "from sklearn.model_selection import train_test_split"
   ]
  },
  {
   "cell_type": "code",
   "execution_count": 17,
   "metadata": {},
   "outputs": [],
   "source": [
    "sample_train_df, sample_test_df = train_test_split(sample_df, test_size=0.2, shuffle=True, random_state=42)"
   ]
  },
  {
   "cell_type": "markdown",
   "metadata": {},
   "source": [
    "#### Creating Generators"
   ]
  },
  {
   "cell_type": "code",
   "execution_count": 18,
   "metadata": {},
   "outputs": [],
   "source": [
    "import tensorflow as tf"
   ]
  },
  {
   "cell_type": "code",
   "execution_count": 19,
   "metadata": {},
   "outputs": [],
   "source": [
    "train_generator = tf.keras.preprocessing.image.ImageDataGenerator(\n",
    "    preprocessing_function=tf.keras.applications.mobilenet_v2.preprocess_input,\n",
    "    validation_split=0.2\n",
    ")\n",
    "\n",
    "test_generator = tf.keras.preprocessing.image.ImageDataGenerator(\n",
    "    preprocessing_function=tf.keras.applications.mobilenet_v2.preprocess_input\n",
    ")"
   ]
  },
  {
   "cell_type": "code",
   "execution_count": 20,
   "metadata": {},
   "outputs": [
    {
     "name": "stdout",
     "output_type": "stream",
     "text": [
      "Found 16192 validated image filenames belonging to 253 classes.\n",
      "Found 4048 validated image filenames belonging to 253 classes.\n",
      "Found 5060 validated image filenames belonging to 253 classes.\n"
     ]
    }
   ],
   "source": [
    "sample_train_images = train_generator.flow_from_dataframe(\n",
    "    dataframe=sample_train_df,\n",
    "    x_col='imagepath',\n",
    "    y_col='label',\n",
    "    target_size=(224, 224),\n",
    "    color_mode='rgb',\n",
    "    class_mode='categorical',\n",
    "    batch_size=32,\n",
    "    shuffle=True,\n",
    "    seed=42,\n",
    "    subset='training'\n",
    ")\n",
    "\n",
    "sample_val_images = train_generator.flow_from_dataframe(\n",
    "    dataframe=sample_train_df,\n",
    "    x_col='imagepath',\n",
    "    y_col='label',\n",
    "    target_size=(224, 224),\n",
    "    color_mode='rgb',\n",
    "    class_mode='categorical',\n",
    "    batch_size=32,\n",
    "    shuffle=True,\n",
    "    seed=42,\n",
    "    subset='validation'\n",
    ")\n",
    "\n",
    "sample_test_images = test_generator.flow_from_dataframe(\n",
    "    dataframe=sample_test_df,\n",
    "    x_col='imagepath',\n",
    "    y_col='label',\n",
    "    target_size=(224, 224),\n",
    "    color_mode='rgb',\n",
    "    class_mode='categorical',\n",
    "    batch_size=32,\n",
    "    shuffle=False\n",
    ")"
   ]
  },
  {
   "cell_type": "markdown",
   "metadata": {},
   "source": [
    "#### Modeling"
   ]
  }
 ],
 "metadata": {
  "kernelspec": {
   "display_name": "Python 3",
   "language": "python",
   "name": "python3"
  },
  "language_info": {
   "codemirror_mode": {
    "name": "ipython",
    "version": 3
   },
   "file_extension": ".py",
   "mimetype": "text/x-python",
   "name": "python",
   "nbconvert_exporter": "python",
   "pygments_lexer": "ipython3",
   "version": "3.11.6"
  }
 },
 "nbformat": 4,
 "nbformat_minor": 2
}
